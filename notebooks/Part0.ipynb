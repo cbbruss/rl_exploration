{
 "cells": [
  {
   "cell_type": "code",
   "execution_count": 1,
   "metadata": {},
   "outputs": [],
   "source": [
    "import gym\n",
    "import numpy as np"
   ]
  },
  {
   "cell_type": "code",
   "execution_count": 2,
   "metadata": {},
   "outputs": [],
   "source": [
    "env = gym.make('FrozenLake-v0')"
   ]
  },
  {
   "cell_type": "code",
   "execution_count": 3,
   "metadata": {},
   "outputs": [],
   "source": [
    "#Initialize table with all zeros\n",
    "Q = np.zeros([env.observation_space.n,env.action_space.n])\n",
    "# Set learning parameters\n",
    "lr = .8\n",
    "y = .95\n",
    "num_episodes = 2000\n",
    "#create lists to contain total rewards and steps per episode\n",
    "jList = []\n",
    "rList = []\n",
    "for i in range(num_episodes):\n",
    "    #Reset environment and get first new observation\n",
    "    s = env.reset()\n",
    "    rAll = 0\n",
    "    d = False\n",
    "    j = 0\n",
    "    #The Q-Table learning algorithm\n",
    "    while j < 99:\n",
    "        j+=1\n",
    "        #Choose an action by greedily (with noise) picking from Q table\n",
    "        a = np.argmax(Q[s,:] + np.random.randn(1,env.action_space.n)*(1./(i+1)))\n",
    "        #Get new state and reward from environment\n",
    "        s1,r,d,_ = env.step(a)\n",
    "        #Update Q-Table with new knowledge\n",
    "        Q[s,a] = Q[s,a] + lr*(r + y*np.max(Q[s1,:]) - Q[s,a])\n",
    "        rAll += r\n",
    "        s = s1\n",
    "        if d == True:\n",
    "            break\n",
    "    jList.append(j)\n",
    "    rList.append(rAll)"
   ]
  },
  {
   "cell_type": "code",
   "execution_count": 4,
   "metadata": {},
   "outputs": [
    {
     "name": "stdout",
     "output_type": "stream",
     "text": [
      "Score over time: 0.421\n"
     ]
    }
   ],
   "source": [
    "print(\"Score over time: \" +  str(sum(rList)/num_episodes))\n"
   ]
  },
  {
   "cell_type": "code",
   "execution_count": 5,
   "metadata": {},
   "outputs": [
    {
     "name": "stdout",
     "output_type": "stream",
     "text": [
      "Final Q-Table Values\n",
      "[[3.29852705e-01 9.90879633e-04 1.62892210e-03 1.81109706e-03]\n",
      " [2.27897120e-04 5.83869761e-05 2.06250332e-04 2.22640550e-01]\n",
      " [8.35875901e-02 1.16438753e-03 1.93043209e-03 1.10482278e-03]\n",
      " [7.45026016e-06 5.09409686e-05 9.66830962e-04 1.67913941e-03]\n",
      " [4.26279986e-01 2.15256940e-04 2.15140159e-06 1.19827065e-08]\n",
      " [0.00000000e+00 0.00000000e+00 0.00000000e+00 0.00000000e+00]\n",
      " [2.19189844e-02 2.12619393e-04 4.08915646e-04 2.78949831e-06]\n",
      " [0.00000000e+00 0.00000000e+00 0.00000000e+00 0.00000000e+00]\n",
      " [2.41576102e-04 3.14826055e-04 1.72709174e-04 2.94511215e-01]\n",
      " [2.52881806e-04 4.66001215e-01 0.00000000e+00 1.23762678e-04]\n",
      " [5.72844934e-01 2.30534583e-04 1.22926184e-04 3.54547473e-05]\n",
      " [0.00000000e+00 0.00000000e+00 0.00000000e+00 0.00000000e+00]\n",
      " [0.00000000e+00 0.00000000e+00 0.00000000e+00 0.00000000e+00]\n",
      " [0.00000000e+00 0.00000000e+00 8.21482454e-01 0.00000000e+00]\n",
      " [0.00000000e+00 0.00000000e+00 0.00000000e+00 9.25216492e-01]\n",
      " [0.00000000e+00 0.00000000e+00 0.00000000e+00 0.00000000e+00]]\n"
     ]
    }
   ],
   "source": [
    "print(\"Final Q-Table Values\")\n",
    "print(Q)"
   ]
  },
  {
   "cell_type": "code",
   "execution_count": null,
   "metadata": {},
   "outputs": [],
   "source": []
  },
  {
   "cell_type": "code",
   "execution_count": 40,
   "metadata": {},
   "outputs": [],
   "source": [
    "import gym\n",
    "import numpy as np\n",
    "import random\n",
    "import tensorflow as tf\n",
    "from tensorflow.keras import optimizers\n",
    "from tensorflow.keras.models import Sequential\n",
    "from tensorflow.keras.layers import Input, Dense, Lambda\n",
    "import matplotlib.pyplot as plt\n",
    "%matplotlib inline"
   ]
  },
  {
   "cell_type": "code",
   "execution_count": 41,
   "metadata": {},
   "outputs": [],
   "source": [
    "env = gym.make('FrozenLake-v0')"
   ]
  },
  {
   "cell_type": "code",
   "execution_count": 107,
   "metadata": {},
   "outputs": [],
   "source": [
    "tf.keras.backend.clear_session()"
   ]
  },
  {
   "cell_type": "code",
   "execution_count": 108,
   "metadata": {},
   "outputs": [
    {
     "name": "stdout",
     "output_type": "stream",
     "text": [
      "Model: \"model\"\n",
      "_________________________________________________________________\n",
      "Layer (type)                 Output Shape              Param #   \n",
      "=================================================================\n",
      "input_1 (InputLayer)         [(None, 16)]              0         \n",
      "_________________________________________________________________\n",
      "dense (Dense)                (None, 4)                 68        \n",
      "=================================================================\n",
      "Total params: 68\n",
      "Trainable params: 68\n",
      "Non-trainable params: 0\n",
      "_________________________________________________________________\n"
     ]
    }
   ],
   "source": [
    "inputs1 = Input(shape=16)\n",
    "W = Dense(4, kernel_initializer='uniform', activation='softmax')(inputs1)\n",
    "\n",
    "sgd = optimizers.SGD(lr=0.1)\n",
    "\n",
    "model = tf.keras.Model(inputs=inputs1, outputs=W)\n",
    "model.summary()\n",
    "model.compile(loss='mean_squared_error', optimizer=sgd)"
   ]
  },
  {
   "cell_type": "code",
   "execution_count": 109,
   "metadata": {},
   "outputs": [
    {
     "name": "stdout",
     "output_type": "stream",
     "text": [
      "Percent of succesful episodes: 0.0%\n",
      "Percent of succesful episodes: 0.0%\n",
      "Percent of succesful episodes: 0.0%\n",
      "Percent of succesful episodes: 0.0%\n",
      "Percent of succesful episodes: 0.0%\n",
      "Percent of succesful episodes: 0.0%\n",
      "Percent of succesful episodes: 0.0%\n",
      "Percent of succesful episodes: 0.0%\n",
      "Percent of succesful episodes: 0.6666666666666667%\n",
      "Percent of succesful episodes: 0.8%\n",
      "Percent of succesful episodes: 1.090909090909091%\n",
      "Percent of succesful episodes: 1.1666666666666667%\n",
      "Percent of succesful episodes: 1.3846153846153846%\n",
      "Percent of succesful episodes: 1.4285714285714286%\n",
      "Percent of succesful episodes: 1.6%\n",
      "Percent of succesful episodes: 1.625%\n",
      "Percent of succesful episodes: 1.647058823529412%\n",
      "Percent of succesful episodes: 1.6666666666666667%\n",
      "Percent of succesful episodes: 1.5789473684210527%\n",
      "Percent of succesful episodes: 1.6%\n",
      "Percent of succesful episodes: 1.5238095238095237%\n",
      "Percent of succesful episodes: 1.4545454545454546%\n",
      "Percent of succesful episodes: 1.652173913043478%\n",
      "Percent of succesful episodes: 1.7500000000000002%\n",
      "Percent of succesful episodes: 1.92%\n",
      "Percent of succesful episodes: 1.9230769230769231%\n",
      "Percent of succesful episodes: 2.0%\n",
      "Percent of succesful episodes: 1.9285714285714284%\n",
      "Percent of succesful episodes: 2.1379310344827585%\n",
      "Percent of succesful episodes: 2.1333333333333333%\n",
      "Percent of succesful episodes: 2.064516129032258%\n",
      "Percent of succesful episodes: 2.1875%\n",
      "Percent of succesful episodes: 2.242424242424242%\n",
      "Percent of succesful episodes: 2.3529411764705883%\n",
      "Percent of succesful episodes: 2.4%\n",
      "Percent of succesful episodes: 2.3333333333333335%\n",
      "Percent of succesful episodes: 2.3783783783783785%\n",
      "Percent of succesful episodes: 2.3157894736842106%\n",
      "Percent of succesful episodes: 2.307692307692308%\n",
      "Percent of succesful episodes: 2.3%\n"
     ]
    }
   ],
   "source": [
    "# Set learning parameters\n",
    "y = .99\n",
    "e = 0.1\n",
    "num_episodes = 2000\n",
    "#create lists to contain total rewards and steps per episode\n",
    "jList = []\n",
    "rList = []\n",
    "for i in range(num_episodes):\n",
    "    #Reset environment and get first new observation\n",
    "    s = env.reset()\n",
    "    rAll = 0\n",
    "    d = False\n",
    "    j = 0\n",
    "    #The Q-Network\n",
    "    while j < 99:\n",
    "        j+=1\n",
    "        #Choose an action by greedily (with e chance of random action) from the Q-network\n",
    "        allQ = model.predict_on_batch(np.identity(16)[s:s+1])\n",
    "        allQ = np.array(allQ)\n",
    "        a = np.argmax(allQ, axis=1)\n",
    "        if np.random.rand(1) < e:\n",
    "            a[0] = env.action_space.sample()\n",
    "        #Get new state and reward from environment\n",
    "        s1,r,d,_ = env.step(a[0])\n",
    "        #Obtain the Q' values by feeding the new state through our network\n",
    "        Q1 = model.predict_on_batch(np.identity(16)[s:s+1])\n",
    "        #Obtain maxQ' and set our target value for chosen action.\n",
    "        maxQ1 = np.max(Q1)\n",
    "        targetQ = allQ\n",
    "        targetQ[0,a[0]] = r + y*maxQ1\n",
    "        #Train our network using target and predicted Q values\n",
    "        l = model.train_on_batch(x=np.identity(16)[s:s+1], y=targetQ)\n",
    "        rAll += r\n",
    "        s = s1\n",
    "        if d == True:\n",
    "            #Reduce chance of random action as we train the model.\n",
    "            e = 1./((i/50) + 10)\n",
    "            break\n",
    "    if i > 0 and i % 50 == 0:\n",
    "        print(\"Percent of succesful episodes: \" + str(sum(rList)/i * 100) + \"%\")\n",
    "    jList.append(j)\n",
    "    rList.append(rAll)\n",
    "print(\"Percent of succesful episodes: \" + str(sum(rList)/num_episodes * 100) + \"%\")"
   ]
  },
  {
   "cell_type": "code",
   "execution_count": 110,
   "metadata": {},
   "outputs": [
    {
     "data": {
      "text/plain": [
       "[<matplotlib.lines.Line2D at 0x1946cb400>]"
      ]
     },
     "execution_count": 110,
     "metadata": {},
     "output_type": "execute_result"
    },
    {
     "data": {
      "image/png": "[encoded data removed]",
      "text/plain": [
       "<Figure size 432x288 with 1 Axes>"
      ]
     },
     "metadata": {
      "needs_background": "light"
     },
     "output_type": "display_data"
    }
   ],
   "source": [
    "plt.plot(rList)"
   ]
  },
  {
   "cell_type": "code",
   "execution_count": 111,
   "metadata": {},
   "outputs": [
    {
     "data": {
      "text/plain": [
       "[<matplotlib.lines.Line2D at 0x19487b828>]"
      ]
     },
     "execution_count": 111,
     "metadata": {},
     "output_type": "execute_result"
    },
    {
     "data": {
      "image/png": "[encoded data removed]",
      "text/plain": [
       "<Figure size 432x288 with 1 Axes>"
      ]
     },
     "metadata": {
      "needs_background": "light"
     },
     "output_type": "display_data"
    }
   ],
   "source": [
    "plt.plot(jList)"
   ]
  },
  {
   "cell_type": "code",
   "execution_count": null,
   "metadata": {},
   "outputs": [],
   "source": []
  }
 ],
 "metadata": {
  "kernelspec": {
   "display_name": "Python 3",
   "language": "python",
   "name": "python3"
  },
  "language_info": {
   "codemirror_mode": {
    "name": "ipython",
    "version": 3
   },
   "file_extension": ".py",
   "mimetype": "text/x-python",
   "name": "python",
   "nbconvert_exporter": "python",
   "pygments_lexer": "ipython3",
   "version": "3.7.2"
  }
 },
 "nbformat": 4,
 "nbformat_minor": 4
}
