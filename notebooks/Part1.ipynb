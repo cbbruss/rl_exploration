{
 "cells": [
  {
   "cell_type": "code",
   "execution_count": 73,
   "metadata": {},
   "outputs": [],
   "source": [
    "import tensorflow as tf\n",
    "from tensorflow.keras import optimizers\n",
    "from tensorflow.keras.layers import Input, Dense, Embedding\n",
    "import numpy as np"
   ]
  },
  {
   "cell_type": "code",
   "execution_count": 120,
   "metadata": {},
   "outputs": [],
   "source": [
    "#List out our bandits. Currently bandit 4 (index#3) is set to most often provide a positive reward.\n",
    "bandits = [0.2,0,-0.2,-0.5]\n",
    "num_bandits = len(bandits)\n",
    "def pullBandit(bandit):\n",
    "    #Get a random number.\n",
    "    result = np.random.randn(1)\n",
    "    if result > bandit:\n",
    "        #return a positive reward.\n",
    "        return 1\n",
    "    else:\n",
    "        #return a negative reward.\n",
    "        return -1"
   ]
  },
  {
   "cell_type": "code",
   "execution_count": 121,
   "metadata": {},
   "outputs": [
    {
     "name": "stdout",
     "output_type": "stream",
     "text": [
      "Model: \"model\"\n",
      "_________________________________________________________________\n",
      "Layer (type)                 Output Shape              Param #   \n",
      "=================================================================\n",
      "input_1 (InputLayer)         [(None, 1)]               0         \n",
      "_________________________________________________________________\n",
      "embedding (Embedding)        (None, 1, 1)              4         \n",
      "=================================================================\n",
      "Total params: 4\n",
      "Trainable params: 4\n",
      "Non-trainable params: 0\n",
      "_________________________________________________________________\n"
     ]
    }
   ],
   "source": [
    "tf.keras.backend.clear_session()\n",
    "\n",
    "action_holder = Input(shape=1)\n",
    "reward_holder = Input(shape=1)\n",
    "W = Embedding(4, 1)(action_holder)\n",
    "\n",
    "@tf.function\n",
    "def m_loss(W, reward_holder):\n",
    "    loss = -(tf.math.log(tf.reduce_sum(W)) * reward_holder)\n",
    "    return loss\n",
    "\n",
    "sgd = optimizers.SGD(lr=0.001)\n",
    "\n",
    "model = tf.keras.Model(inputs=action_holder, outputs=W)\n",
    "model.summary()\n",
    "model.compile(loss=m_loss, optimizer=sgd)"
   ]
  },
  {
   "cell_type": "code",
   "execution_count": 127,
   "metadata": {},
   "outputs": [
    {
     "name": "stdout",
     "output_type": "stream",
     "text": [
      "Running reward for the 4 bandits: [0. 0. 1. 0.]\n",
      "Running reward for the 4 bandits: [-4.  1.  1. -3.]\n",
      "Running reward for the 4 bandits: [-4.  1.  0. -2.]\n",
      "Running reward for the 4 bandits: [-17.   0.   0.  -2.]\n",
      "Running reward for the 4 bandits: [-31.   2.  -1.  -1.]\n",
      "Running reward for the 4 bandits: [-44.   2.   1.   0.]\n",
      "Running reward for the 4 bandits: [-42.   4.   1.   0.]\n",
      "Running reward for the 4 bandits: [-52.   3.   1.  -1.]\n",
      "Running reward for the 4 bandits: [-54.   3.  -1.  -1.]\n",
      "Running reward for the 4 bandits: [-51.   1.  -1.   0.]\n",
      "Running reward for the 4 bandits: [-55.   0.  -3.   1.]\n",
      "Running reward for the 4 bandits: [-72.   1.  -4.   0.]\n",
      "Running reward for the 4 bandits: [-79.   1.  -4.   1.]\n",
      "Running reward for the 4 bandits: [-83.   1.  -6.   1.]\n",
      "Running reward for the 4 bandits: [-94.   1.  -6.   2.]\n",
      "Running reward for the 4 bandits: [-104.    1.   -6.    2.]\n",
      "Running reward for the 4 bandits: [-117.    2.   -8.    4.]\n",
      "Running reward for the 4 bandits: [-118.    5.   -9.    3.]\n",
      "Running reward for the 4 bandits: [-129.    6.  -12.    2.]\n",
      "Running reward for the 4 bandits: [-125.    6.  -11.    3.]\n",
      "The agent thinks bandit 1 is the most promising....\n",
      "...and it was wrong!\n"
     ]
    }
   ],
   "source": [
    "total_episodes = 1000 #Set total number of episodes to train agent on.\n",
    "total_reward = np.zeros(num_bandits) #Set scoreboard for bandits to 0.\n",
    "e = 0.1 #Set the chance of taking a random action.\n",
    "\n",
    "\n",
    "# Launch the tensorflow graph\n",
    "\n",
    "i = 0\n",
    "while i < total_episodes:\n",
    "\n",
    "    #Choose either a random action or one from our network.\n",
    "    if np.random.rand(1) < e:\n",
    "        action = np.random.randint(num_bandits)\n",
    "    else:\n",
    "        weights = [float(model.predict_on_batch(np.array([x]))) for x in range(4)]\n",
    "        weights = np.nan_to_num(np.array(weights), -1.0)\n",
    "        action = np.argmax(weights)\n",
    "\n",
    "    reward = pullBandit(bandits[action]) #Get our reward from picking one of the bandits.\n",
    "\n",
    "    #Update the network.\n",
    "    ww = model.predict_on_batch(np.array([action]))\n",
    "    l = model.train_on_batch(x=np.array([action]), y=np.array([reward], dtype=np.float64))\n",
    "    #Update our running tally of scores.\n",
    "    total_reward[action] += reward\n",
    "    if i % 50 == 0:\n",
    "        print(\"Running reward for the \" + str(num_bandits) + \" bandits: \" + str(total_reward))\n",
    "    i+=1\n",
    "print(\"The agent thinks bandit \" + str(action+1) + \" is the most promising....\")\n",
    "\n",
    "if np.argmax(weights) == np.argmax(-np.array(bandits)):\n",
    "    print(\"...and it was right!\")\n",
    "else:\n",
    "    print(\"...and it was wrong!\")"
   ]
  },
  {
   "cell_type": "code",
   "execution_count": null,
   "metadata": {},
   "outputs": [],
   "source": []
  }
 ],
 "metadata": {
  "kernelspec": {
   "display_name": "Python 3",
   "language": "python",
   "name": "python3"
  },
  "language_info": {
   "codemirror_mode": {
    "name": "ipython",
    "version": 3
   },
   "file_extension": ".py",
   "mimetype": "text/x-python",
   "name": "python",
   "nbconvert_exporter": "python",
   "pygments_lexer": "ipython3",
   "version": "3.7.2"
  }
 },
 "nbformat": 4,
 "nbformat_minor": 4
}
